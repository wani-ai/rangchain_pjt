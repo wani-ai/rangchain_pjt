{
 "cells": [
  {
   "cell_type": "markdown",
   "id": "573e97db",
   "metadata": {},
   "source": [
    "# 검색 인덱스\n"
   ]
  },
  {
   "cell_type": "code",
   "execution_count": null,
   "id": "0ee27fd2",
   "metadata": {},
   "outputs": [],
   "source": [
    "import meilisearch\n",
    "import json\n",
    "\n",
    "# meilisearch의 클라이언트의 객체\n",
    "# client = meilisearch.Client('로컬호스트', '서버의키')\n",
    "client = meilisearch.Client('http://localhost:7700', 'aSampleMasterKey')\n",
    "\n",
    "# json_file = open('data/movies.json', encoding='utf-8')\n",
    "# movies = json.load(json_file)\n",
    "# client.index('movies').add_documents(movies)"
   ]
  },
  {
   "cell_type": "code",
   "execution_count": null,
   "id": "3853e0c5",
   "metadata": {},
   "outputs": [],
   "source": [
    "import pandas as pd\n",
    "df = pd.read_csv('./nasdaq_screener_1749314966785.csv', na_filter=False)  \n",
    "df.head()"
   ]
  },
  {
   "cell_type": "markdown",
   "id": "0b5bbb22",
   "metadata": {},
   "source": [
    "# meilisearch 사용 방법"
   ]
  },
  {
   "cell_type": "code",
   "execution_count": null,
   "id": "2be12ef2",
   "metadata": {},
   "outputs": [],
   "source": [
    "#전처리하기 특수문자가 포함된 값만 필터링 (정규표현식 사용)\n",
    "df[df['Symbol'].str.contains(r'[^a-zA-Z0-9]', regex=True)]"
   ]
  },
  {
   "cell_type": "code",
   "execution_count": null,
   "id": "d00caa01",
   "metadata": {},
   "outputs": [],
   "source": [
    "# r'[/^]'는 정규 표현식(Regex)으로, 문자열 내에서 슬래시(/)나 캐럿(^) 문자를 찾아서 이를 밑줄(_)로 대체함.\n",
    "df['id'] =df['Symbol'].str.strip().replace(r'[/^]', '_', regex=True)"
   ]
  },
  {
   "cell_type": "markdown",
   "id": "121958f1",
   "metadata": {},
   "source": [
    "# 데이터 인덱싱 하기"
   ]
  },
  {
   "cell_type": "code",
   "execution_count": 4,
   "id": "a2368652",
   "metadata": {},
   "outputs": [],
   "source": [
    "import pandas as pd\n",
    "data_path = \"data/nasdaq_screener_1749630565014.csv\"\n",
    "df = pd.read_csv(data_path, na_filter=False)"
   ]
  },
  {
   "cell_type": "code",
   "execution_count": 5,
   "id": "27ca5bc6",
   "metadata": {},
   "outputs": [
    {
     "name": "stdout",
     "output_type": "stream",
     "text": [
      "Index(['Symbol', 'Name', 'Last Sale', 'Net Change', '% Change', 'Market Cap',\n",
      "       'Country', 'IPO Year', 'Volume', 'Sector', 'Industry'],\n",
      "      dtype='object')\n"
     ]
    }
   ],
   "source": [
    "print(df.columns)"
   ]
  },
  {
   "cell_type": "code",
   "execution_count": 6,
   "id": "4e6fbc26",
   "metadata": {},
   "outputs": [],
   "source": [
    "df['id'] =df['Symbol'].str.strip().replace(r'[/^]', '_', regex=True)"
   ]
  },
  {
   "cell_type": "code",
   "execution_count": 7,
   "id": "046c286c",
   "metadata": {},
   "outputs": [
    {
     "data": {
      "text/html": [
       "<div>\n",
       "<style scoped>\n",
       "    .dataframe tbody tr th:only-of-type {\n",
       "        vertical-align: middle;\n",
       "    }\n",
       "\n",
       "    .dataframe tbody tr th {\n",
       "        vertical-align: top;\n",
       "    }\n",
       "\n",
       "    .dataframe thead th {\n",
       "        text-align: right;\n",
       "    }\n",
       "</style>\n",
       "<table border=\"1\" class=\"dataframe\">\n",
       "  <thead>\n",
       "    <tr style=\"text-align: right;\">\n",
       "      <th></th>\n",
       "      <th>Symbol</th>\n",
       "      <th>Name</th>\n",
       "      <th>Last Sale</th>\n",
       "      <th>Net Change</th>\n",
       "      <th>% Change</th>\n",
       "      <th>Market Cap</th>\n",
       "      <th>Country</th>\n",
       "      <th>IPO Year</th>\n",
       "      <th>Volume</th>\n",
       "      <th>Sector</th>\n",
       "      <th>Industry</th>\n",
       "      <th>id</th>\n",
       "    </tr>\n",
       "  </thead>\n",
       "  <tbody>\n",
       "    <tr>\n",
       "      <th>0</th>\n",
       "      <td>A</td>\n",
       "      <td>Agilent Technologies Inc. Common Stock</td>\n",
       "      <td>$120.555</td>\n",
       "      <td>3.8150</td>\n",
       "      <td>3.268%</td>\n",
       "      <td>34245423284.00</td>\n",
       "      <td>United States</td>\n",
       "      <td>1999</td>\n",
       "      <td>1589621</td>\n",
       "      <td>Industrials</td>\n",
       "      <td>Biotechnology: Laboratory Analytical Instruments</td>\n",
       "      <td>A</td>\n",
       "    </tr>\n",
       "    <tr>\n",
       "      <th>1</th>\n",
       "      <td>AA</td>\n",
       "      <td>Alcoa Corporation Common Stock</td>\n",
       "      <td>$28.74</td>\n",
       "      <td>0.1800</td>\n",
       "      <td>0.63%</td>\n",
       "      <td>7440853194.00</td>\n",
       "      <td>United States</td>\n",
       "      <td>2016</td>\n",
       "      <td>2917805</td>\n",
       "      <td>Industrials</td>\n",
       "      <td>Aluminum</td>\n",
       "      <td>AA</td>\n",
       "    </tr>\n",
       "    <tr>\n",
       "      <th>2</th>\n",
       "      <td>AACB</td>\n",
       "      <td>Artius II Acquisition Inc. Class A Ordinary Sh...</td>\n",
       "      <td>$10.11</td>\n",
       "      <td>0.0000</td>\n",
       "      <td>0.00%</td>\n",
       "      <td>0.00</td>\n",
       "      <td>United States</td>\n",
       "      <td>2025</td>\n",
       "      <td>37</td>\n",
       "      <td></td>\n",
       "      <td></td>\n",
       "      <td>AACB</td>\n",
       "    </tr>\n",
       "    <tr>\n",
       "      <th>3</th>\n",
       "      <td>AACBR</td>\n",
       "      <td>Artius II Acquisition Inc. Rights</td>\n",
       "      <td>$0.2346</td>\n",
       "      <td>0.0146</td>\n",
       "      <td>6.636%</td>\n",
       "      <td>0.00</td>\n",
       "      <td>United States</td>\n",
       "      <td>2025</td>\n",
       "      <td>1451</td>\n",
       "      <td></td>\n",
       "      <td></td>\n",
       "      <td>AACBR</td>\n",
       "    </tr>\n",
       "    <tr>\n",
       "      <th>4</th>\n",
       "      <td>AACBU</td>\n",
       "      <td>Artius II Acquisition Inc. Units</td>\n",
       "      <td>$10.45</td>\n",
       "      <td>0.1177</td>\n",
       "      <td>1.139%</td>\n",
       "      <td>0.00</td>\n",
       "      <td>United States</td>\n",
       "      <td>2025</td>\n",
       "      <td>4825</td>\n",
       "      <td>Finance</td>\n",
       "      <td>Blank Checks</td>\n",
       "      <td>AACBU</td>\n",
       "    </tr>\n",
       "  </tbody>\n",
       "</table>\n",
       "</div>"
      ],
      "text/plain": [
       "  Symbol                                               Name Last Sale  \\\n",
       "0      A             Agilent Technologies Inc. Common Stock  $120.555   \n",
       "1     AA                    Alcoa Corporation Common Stock     $28.74   \n",
       "2   AACB  Artius II Acquisition Inc. Class A Ordinary Sh...    $10.11   \n",
       "3  AACBR                  Artius II Acquisition Inc. Rights   $0.2346   \n",
       "4  AACBU                   Artius II Acquisition Inc. Units    $10.45   \n",
       "\n",
       "   Net Change % Change      Market Cap        Country IPO Year   Volume  \\\n",
       "0      3.8150   3.268%  34245423284.00  United States     1999  1589621   \n",
       "1      0.1800    0.63%   7440853194.00  United States     2016  2917805   \n",
       "2      0.0000    0.00%            0.00  United States     2025       37   \n",
       "3      0.0146   6.636%            0.00  United States     2025     1451   \n",
       "4      0.1177   1.139%            0.00  United States     2025     4825   \n",
       "\n",
       "        Sector                                          Industry     id  \n",
       "0  Industrials  Biotechnology: Laboratory Analytical Instruments      A  \n",
       "1  Industrials                                          Aluminum     AA  \n",
       "2                                                                  AACB  \n",
       "3                                                                 AACBR  \n",
       "4      Finance                                      Blank Checks  AACBU  "
      ]
     },
     "execution_count": 7,
     "metadata": {},
     "output_type": "execute_result"
    }
   ],
   "source": [
    "df.head()"
   ]
  },
  {
   "cell_type": "markdown",
   "id": "b2603c17",
   "metadata": {},
   "source": [
    "# 데이터 인덱싱 하기"
   ]
  },
  {
   "cell_type": "code",
   "execution_count": 8,
   "id": "336de501",
   "metadata": {},
   "outputs": [
    {
     "data": {
      "text/plain": [
       "TaskInfo(task_uid=0, index_uid='nasdaq', status='enqueued', type='documentAdditionOrUpdate', enqueued_at=datetime.datetime(2025, 6, 11, 8, 59, 40, 803268))"
      ]
     },
     "execution_count": 8,
     "metadata": {},
     "output_type": "execute_result"
    }
   ],
   "source": [
    "client.index('nasdaq').add_documents(\n",
    "    df.to_dict(orient=\"records\"), \n",
    "    primary_key='id')"
   ]
  },
  {
   "cell_type": "code",
   "execution_count": 10,
   "id": "e687b930",
   "metadata": {},
   "outputs": [
    {
     "data": {
      "text/plain": [
       "{'hits': [{'id': 'AAPL',\n",
       "   'Symbol': 'AAPL',\n",
       "   'Name': 'Apple Inc. Common Stock',\n",
       "   'Last Sale': '$201.75',\n",
       "   'Net Change': 0.3,\n",
       "   '% Change': '0.149%',\n",
       "   'Market Cap': '3013302895500.00',\n",
       "   'Country': 'United States',\n",
       "   'IPO Year': '1980',\n",
       "   'Volume': 31140633,\n",
       "   'Sector': 'Technology',\n",
       "   'Industry': 'Computer Manufacturing'}],\n",
       " 'query': 'AAPL',\n",
       " 'processingTimeMs': 0,\n",
       " 'limit': 20,\n",
       " 'offset': 0,\n",
       " 'estimatedTotalHits': 1}"
      ]
     },
     "execution_count": 10,
     "metadata": {},
     "output_type": "execute_result"
    }
   ],
   "source": [
    "# 서치하기\n",
    "# client.index('nasdaq').search(\"Apple\")\n",
    "client.index('nasdaq').search(\"AAPL\")"
   ]
  },
  {
   "cell_type": "code",
   "execution_count": null,
   "id": "7bcf9e84",
   "metadata": {},
   "outputs": [],
   "source": [
    "# 자료 서칭을 위한 클래스\n",
    "class SearchResult:\n",
    "    def __init__(self, item):\n",
    "        self.item = item\n",
    "\n",
    "    # @property 데코레이터, 클래스의 메서드를 마치 속성처럼 사용할 수 있음\n",
    "    @property    \n",
    "    def symbol(self):\n",
    "        return self.item['Symbol']\n",
    "    \n",
    "    @property\n",
    "    def name(self):\n",
    "        return self.item['Name']\n",
    "    \n",
    "    # print() 또는 str()문을 만났을 때 출력형태\n",
    "    def __str__(self):\n",
    "        # return f\"AAPL: Apple Inc\"\n",
    "        return f\"{self.symbol}: {self.name}\"\n",
    "    \n",
    "\n",
    "if __name__ == \"__main__\":\n",
    "\n",
    "    search_query = \"MSFT\"\n",
    "\n",
    "    # 서치 목록 만들기\n",
    "    # search_data = search_compay(search_query)\n",
    "    # print(search_data)\n",
    "    hits = search_compay(search_query)['hits']  # hits 키로 데이터 목록이 만들어져 있음\n",
    "    # # print(hits)\n",
    "\n",
    "    # Symbol, Name 추출\n",
    "    # 리스트 내포(list comprehension)로 작성\n",
    "    search_results = [SearchResult(hit) for hit in hits]\n",
    "    print(search_results[0])\n",
    "    # 위 list comprehension과 동일한 의미\n",
    "    # search_results = []\n",
    "    # for hit in hits:\n",
    "    #     search_results.append(SearchResult(hit)"
   ]
  },
  {
   "cell_type": "code",
   "execution_count": null,
   "id": "fae85153",
   "metadata": {},
   "outputs": [],
   "source": [
    "# 자료 서칭을 위한 클래스\n",
    "class SearchResult:\n",
    "    def __init__(self, item):\n",
    "        self.item = item\n",
    "\n",
    "    # @property 데코레이터, 클래스의 메서드를 마치 속성처럼 사용할 수 있음\n",
    "    @property    \n",
    "    def symbol(self):\n",
    "        return self.item['Symbol']\n",
    "    \n",
    "    @property\n",
    "    def name(self):\n",
    "        return self.item['Name']\n",
    "    \n",
    "    # print() 또는 str()문을 만났을 때 출력형태\n",
    "    def __str__(self):\n",
    "        # return f\"AAPL: Apple Inc\"\n",
    "        return f\"{self.symbol}: {self.name}\"\n",
    "    \n",
    "\n",
    "if __name__ == \"__main__\":\n",
    "\n",
    "    search_query = \"MSFT\"\n",
    "\n",
    "    # 서치 목록 만들기\n",
    "    # search_data = search_compay(search_query)\n",
    "    # print(search_data)\n",
    "    hits = search_compay(search_query)['hits']  # hits 키로 데이터 목록이 만들어져 있음\n",
    "    # # print(hits)\n",
    "\n",
    "    # Symbol, Name 추출\n",
    "    # 리스트 내포(list comprehension)로 작성\n",
    "    search_results = [SearchResult(hit) for hit in hits]\n",
    "    print(search_results[0])\n",
    "    # 위 list comprehension과 동일한 의미\n",
    "    # search_results = []\n",
    "    # for hit in hits:\n",
    "    #     search_results.append(SearchResult(hit))"
   ]
  }
 ],
 "metadata": {
  "kernelspec": {
   "display_name": "lc_env",
   "language": "python",
   "name": "python3"
  },
  "language_info": {
   "codemirror_mode": {
    "name": "ipython",
    "version": 3
   },
   "file_extension": ".py",
   "mimetype": "text/x-python",
   "name": "python",
   "nbconvert_exporter": "python",
   "pygments_lexer": "ipython3",
   "version": "3.12.11"
  }
 },
 "nbformat": 4,
 "nbformat_minor": 5
}
