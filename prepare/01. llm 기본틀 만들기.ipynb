{
 "cells": [
  {
   "cell_type": "markdown",
   "id": "460ad48c",
   "metadata": {},
   "source": [
    "# 기본틀"
   ]
  },
  {
   "cell_type": "code",
   "execution_count": 2,
   "id": "7fa3ed79",
   "metadata": {},
   "outputs": [],
   "source": [
    "from dotenv import load_dotenv\n",
    "import os\n",
    "from langchain_openai import ChatOpenAI\n",
    "\n",
    "load_dotenv()\n",
    "\n",
    "api_key = os.getenv('OPENAI_API_KEY')\n",
    "# print(api_key)"
   ]
  },
  {
   "cell_type": "markdown",
   "id": "e77910ee",
   "metadata": {},
   "source": [
    "# 모델 객체 생성\n"
   ]
  },
  {
   "cell_type": "code",
   "execution_count": 3,
   "id": "d41a3482",
   "metadata": {},
   "outputs": [],
   "source": [
    "# gpt model 객체 생성\n",
    "# llm = ChatOpenAI(model=\"gpt-4o\", api_key=api_key)\n",
    "llm = ChatOpenAI(model=\"gpt-3.5-turbo-0125\", api_key=api_key)"
   ]
  },
  {
   "cell_type": "code",
   "execution_count": 4,
   "id": "928a5b93",
   "metadata": {},
   "outputs": [
    {
     "data": {
      "text/plain": [
       "ChatOpenAI(client=<openai.resources.chat.completions.completions.Completions object at 0x00000141851829F0>, async_client=<openai.resources.chat.completions.completions.AsyncCompletions object at 0x0000014186CEE630>, root_client=<openai.OpenAI object at 0x00000141851824E0>, root_async_client=<openai.AsyncOpenAI object at 0x00000141867DEED0>, model_name='gpt-3.5-turbo-0125', model_kwargs={}, openai_api_key=SecretStr('**********'))"
      ]
     },
     "execution_count": 4,
     "metadata": {},
     "output_type": "execute_result"
    }
   ],
   "source": [
    "llm"
   ]
  },
  {
   "cell_type": "code",
   "execution_count": 9,
   "id": "418484db",
   "metadata": {},
   "outputs": [],
   "source": [
    "from langchain_core.prompts import ChatPromptTemplate\n",
    "from langchain_core.output_parsers import StrOutputParser"
   ]
  },
  {
   "cell_type": "markdown",
   "id": "fc202613",
   "metadata": {},
   "source": [
    "# 시스템 프롬프트 작성"
   ]
  },
  {
   "cell_type": "code",
   "execution_count": 6,
   "id": "f8ae7f63",
   "metadata": {},
   "outputs": [],
   "source": [
    "system_prompt = \"\"\"\n",
    "Want assistance provided by qualified individuals enabled with experience on understanding charts using technical analysis tools while interpreting macroeconomic environment prevailing across world consequently assisting customers acquire long term advantages requires clear verdicts therefore seeking same through informed predictions written down precisely! First statement contains following content- “Can you tell us what future stock market looks like based upon current conditions ?\".\n",
    "\"\"\"\n",
    "user_prompt = \"{company}에 주식을 투자해도 될까요? 마크다운 형식의 투자보고서를 한글로 작성해 주세요.\""
   ]
  },
  {
   "cell_type": "code",
   "execution_count": 7,
   "id": "b1032d44",
   "metadata": {},
   "outputs": [
    {
     "data": {
      "text/plain": [
       "ChatPromptTemplate(input_variables=['company'], input_types={}, partial_variables={}, messages=[SystemMessagePromptTemplate(prompt=PromptTemplate(input_variables=[], input_types={}, partial_variables={}, template='\\nWant assistance provided by qualified individuals enabled with experience on understanding charts using technical analysis tools while interpreting macroeconomic environment prevailing across world consequently assisting customers acquire long term advantages requires clear verdicts therefore seeking same through informed predictions written down precisely! First statement contains following content- “Can you tell us what future stock market looks like based upon current conditions ?\".\\n'), additional_kwargs={}), HumanMessagePromptTemplate(prompt=PromptTemplate(input_variables=['company'], input_types={}, partial_variables={}, template='{company}에 주식을 투자해도 될까요? 마크다운 형식의 투자보고서를 한글로 작성해 주세요.'), additional_kwargs={})])"
      ]
     },
     "execution_count": 7,
     "metadata": {},
     "output_type": "execute_result"
    }
   ],
   "source": [
    "prompt = ChatPromptTemplate.from_messages([\n",
    "    (\"system\", system_prompt),\n",
    "    (\"user\", user_prompt)\n",
    "])\n",
    "prompt"
   ]
  },
  {
   "cell_type": "markdown",
   "id": "f9d88c1f",
   "metadata": {},
   "source": [
    "# Out 파서 객체 생성"
   ]
  },
  {
   "cell_type": "code",
   "execution_count": 10,
   "id": "7bc924fd",
   "metadata": {},
   "outputs": [
    {
     "data": {
      "text/plain": [
       "StrOutputParser()"
      ]
     },
     "execution_count": 10,
     "metadata": {},
     "output_type": "execute_result"
    }
   ],
   "source": [
    "output_parser = StrOutputParser()\n",
    "output_parser"
   ]
  },
  {
   "cell_type": "markdown",
   "id": "c775507d",
   "metadata": {},
   "source": [
    "# LCEL로 LLM 요청 및 응답받기"
   ]
  },
  {
   "cell_type": "code",
   "execution_count": 11,
   "id": "7b5746ed",
   "metadata": {},
   "outputs": [],
   "source": [
    "chain = prompt | llm | output_parser\n",
    "\n",
    "# 회사 이름\n",
    "company = \"MicroSoft\"\n",
    "response = chain.invoke({\"company\":company})"
   ]
  },
  {
   "cell_type": "code",
   "execution_count": 12,
   "id": "aadde66e",
   "metadata": {},
   "outputs": [
    {
     "name": "stdout",
     "output_type": "stream",
     "text": [
      "**투자 보고서**\n",
      "\n",
      "**회사 이름: MicroSoft**\n",
      "\n",
      "**투자 결론:** MicroSoft 주식에 대한 투자를 고려할 때, 현재 조사한 결과에 기반하여 투자하는 것이 적절하다고 판단됩니다. 아래는 통계와 전망 등 다양한 측면을 고려한 짧은 분석입니다.\n",
      "\n",
      "**주식 가격 분석:**\n",
      "\n",
      "- MicroSoft의 주식은 최근 기업의 성과로 인해 꾸준한 상승세를 보이고 있습니다.\n",
      "- 기업의 수익성과 안정성은 높은 편에 속하며, 이는 주가 상승에 긍정적인 영향을 미칠 것으로 판단됩니다.\n",
      "- 기술 기업으로서의 MicroSoft는 혁신과 성장 가능성이 높은 업종에 속하며, 중장기적으로 주가 상승이 예상됩니다.\n",
      "\n",
      "**매크로 경제 전망:**\n",
      "\n",
      "- 미국 및 세계 경제는 점진적 회복 추세를 보이고 있으며, 기업의 수익성은 이에 긍정적으로 반영될 것으로 예상됩니다.\n",
      "- 글로벌 IT 업종은 미래 성장이 기대되는 산업 중 하나로, MicroSoft와 같은 기업은 시장에서 높은 경쟁력을 유지할 것으로 기대됩니다.\n",
      "\n",
      "**투자 추천:**\n",
      "\n",
      "- 위의 분석을 바탕으로 MicroSoft 주식에 대한 투자를 권장합니다.\n",
      "- 과거 성과와 미래 전망을 종합적으로 고려할 때, MicroSoft는 안정적이고 성장 가능성이 높은 기업으로 평가됩니다.\n",
      "- 투자 시기와 금액을 신중히 고려한 뒤, 장기적 관점에서 MicroSoft 주식에 대한 투자를 고려해보시기를 권장드립니다.\n",
      "\n",
      "**경고:** 투자는 시장 변동성 및 리스크가 따르는 손실 가능성을 내포하므로, 자신의 자본과 위험 수준에 맞게 신중하게 결정해야 합니다.\n",
      "\n",
      "**투자자의 주의사항을 빠짐없이 숙지한 후, MicroSoft 주식에 대해 신중한 검토를 진행해주시기 바랍니다.**\n"
     ]
    }
   ],
   "source": [
    "print(response)"
   ]
  },
  {
   "cell_type": "code",
   "execution_count": null,
   "id": "76f346ce",
   "metadata": {},
   "outputs": [],
   "source": []
  },
  {
   "cell_type": "code",
   "execution_count": null,
   "id": "f706d251",
   "metadata": {},
   "outputs": [],
   "source": []
  }
 ],
 "metadata": {
  "kernelspec": {
   "display_name": "lc_env",
   "language": "python",
   "name": "python3"
  },
  "language_info": {
   "codemirror_mode": {
    "name": "ipython",
    "version": 3
   },
   "file_extension": ".py",
   "mimetype": "text/x-python",
   "name": "python",
   "nbconvert_exporter": "python",
   "pygments_lexer": "ipython3",
   "version": "3.12.11"
  }
 },
 "nbformat": 4,
 "nbformat_minor": 5
}
